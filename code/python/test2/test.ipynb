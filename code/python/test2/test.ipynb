{
 "cells": [
  {
   "cell_type": "code",
   "execution_count": 6,
   "metadata": {},
   "outputs": [
    {
     "name": "stdout",
     "output_type": "stream",
     "text": [
      "[0.   1.25 2.5  3.75 5.  ]\n"
     ]
    }
   ],
   "source": [
    "a = [2,5,4]\n",
    "\n",
    "type(a)\n",
    "\n",
    "import numpy as np\n",
    "\n",
    "b = np.linspace(0,5,5)\n",
    "\n",
    "print(b)"
   ]
  },
  {
   "cell_type": "code",
   "execution_count": 5,
   "metadata": {},
   "outputs": [
    {
     "data": {
      "image/png": "[encoded data removed]",
      "text/plain": [
       "<matplotlib.figure.Figure at 0x7f3d1be0d690>"
      ]
     },
     "metadata": {
      "needs_background": "light"
     },
     "output_type": "display_data"
    },
    {
     "name": "stdout",
     "output_type": "stream",
     "text": [
      "200\n"
     ]
    },
    {
     "data": {
      "text/plain": [
       "\"\\ntau = 60\\nfor i in range(0,len(V)-1):\\n    V[i+1] = V[i] + tau*(40-1*V[i]);\\n\\nplt.plot(t, V ,label='V')\\nplt.grid()\\nplt.show()\\n\""
      ]
     },
     "execution_count": 5,
     "metadata": {},
     "output_type": "execute_result"
    }
   ],
   "source": [
    "import numpy as np\n",
    "import matplotlib.pyplot as plt\n",
    "\n",
    "t = np.linspace(0,200,200)\n",
    "plt.plot(t)\n",
    "plt.grid()\n",
    "plt.show()\n",
    "\n",
    "print( len(t) )\n",
    "V = np.ones(200)\n",
    "# for i in range(0,5): # i: 0,1,2,3,4\n",
    "\n",
    "'''\n",
    "tau = 60\n",
    "for i in range(0,len(V)-1):\n",
    "    V[i+1] = V[i] + tau*(40-1*V[i]);\n",
    "\n",
    "plt.plot(t, V ,label='V')\n",
    "plt.grid()\n",
    "plt.show()\n",
    "'''"
   ]
  },
  {
   "cell_type": "code",
   "execution_count": null,
   "metadata": {},
   "outputs": [],
   "source": []
  },
  {
   "cell_type": "code",
   "execution_count": null,
   "metadata": {},
   "outputs": [],
   "source": [
    "\n"
   ]
  }
 ],
 "metadata": {
  "kernelspec": {
   "display_name": "Python 2",
   "language": "python",
   "name": "python2"
  },
  "language_info": {
   "codemirror_mode": {
    "name": "ipython",
    "version": 2
   },
   "file_extension": ".py",
   "mimetype": "text/x-python",
   "name": "python",
   "nbconvert_exporter": "python",
   "pygments_lexer": "ipython2",
   "version": "2.7.15+"
  }
 },
 "nbformat": 4,
 "nbformat_minor": 2
}
